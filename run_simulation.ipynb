{
 "cells": [
  {
   "cell_type": "code",
   "execution_count": 1,
   "metadata": {},
   "outputs": [],
   "source": [
    "import itertools\n",
    "import pandas as pd\n",
    "\n",
    "import simulation, evaluation"
   ]
  },
  {
   "cell_type": "markdown",
   "metadata": {},
   "source": [
    "# Empirical data"
   ]
  },
  {
   "cell_type": "code",
   "execution_count": 2,
   "metadata": {},
   "outputs": [],
   "source": [
    "df = pd.read_csv(\"./data/all-weeks-countries.tsv\", sep='\\t')\n",
    "df.week = pd.to_datetime(df.week)\n",
    "df.loc[:, 'item_title'] = df.apply(lambda x: x.season_title if type(x.season_title)!=float else x.show_title, axis=1)\n",
    "empirical = df[(df.country_name==\"United States\") & (df.category==\"TV\")]\n",
    "empirical = empirical.drop(columns=['country_iso2', 'category', 'show_title', 'season_title'])\n",
    "n_weeks = empirical.week.nunique()\n",
    "n_items = empirical.item_title.nunique()"
   ]
  },
  {
   "cell_type": "code",
   "execution_count": 3,
   "metadata": {},
   "outputs": [],
   "source": [
    "time_empirical = evaluation.time_on_list(empirical, \"item_title\", \"week\")\n",
    "churn_empirical = evaluation.churn(empirical, \"item_title\", \"week\")\n",
    "transitions_empirical = evaluation.movement_prob(empirical, \"item_title\", \"week\", \"weekly_rank\")"
   ]
  },
  {
   "cell_type": "markdown",
   "metadata": {},
   "source": [
    "# Simulation param sweep"
   ]
  },
  {
   "cell_type": "code",
   "execution_count": 4,
   "metadata": {},
   "outputs": [],
   "source": [
    "pop_params = [0.2, 0.5, 0.8]\n",
    "pl_params = [1, 1.5, 2]\n",
    "param_sweep = list(itertools.product(pop_params, pl_params))"
   ]
  },
  {
   "cell_type": "code",
   "execution_count": 6,
   "metadata": {},
   "outputs": [
    {
     "name": "stderr",
     "output_type": "stream",
     "text": [
      "100%|██████████| 36/36 [01:21<00:00,  2.27s/it]\n",
      "100%|██████████| 36/36 [01:22<00:00,  2.28s/it]\n",
      "100%|██████████| 36/36 [01:21<00:00,  2.28s/it]\n",
      "100%|██████████| 36/36 [01:27<00:00,  2.42s/it]\n",
      "100%|██████████| 36/36 [01:26<00:00,  2.39s/it]\n",
      "100%|██████████| 36/36 [01:27<00:00,  2.42s/it]\n",
      "100%|██████████| 36/36 [01:33<00:00,  2.60s/it]\n",
      "100%|██████████| 36/36 [01:31<00:00,  2.53s/it]\n",
      "100%|██████████| 36/36 [01:31<00:00,  2.54s/it]\n"
     ]
    }
   ],
   "source": [
    "results = []\n",
    "for pair in param_sweep:\n",
    "    pop = pair[0]\n",
    "    pl = pair[1]\n",
    "    sim = simulation.Simulation(n_items, 100_000, n_weeks, pop, pl)\n",
    "    sim.init_simulation()\n",
    "    sim.run_simulation()\n",
    "    time_sim = evaluation.time_on_list(sim.top_ten, \"movie\", \"iteration\")\n",
    "    churn_sim = evaluation.churn(sim.top_ten, \"movie\", \"iteration\")\n",
    "    transitions_sim = evaluation.movement_prob(sim.top_ten, \"movie\", \"iteration\", \"rank\")\n",
    "    time_compare = evaluation.compare_distributions(time_empirical, time_sim)\n",
    "    churn_compare = evaluation.compare_distributions(churn_empirical, churn_sim)\n",
    "    transitions_compare = evaluation.compare_distributions(transitions_empirical, transitions_sim)\n",
    "    results.append({'pop': pop, \n",
    "                    'pl': pl,\n",
    "                    'time_ks': time_compare,\n",
    "                    'churn_ks': churn_compare,\n",
    "                    'mean_jsd': transitions_compare})    "
   ]
  },
  {
   "cell_type": "code",
   "execution_count": 7,
   "metadata": {},
   "outputs": [
    {
     "data": {
      "text/plain": [
       "KstestResult(statistic=0.3076923076923077, pvalue=0.5881960656115993)"
      ]
     },
     "execution_count": 7,
     "metadata": {},
     "output_type": "execute_result"
    }
   ],
   "source": [
    "results.sort(key=lambda x: x['mean_jsd'])\n",
    "results[0]['time_ks']"
   ]
  },
  {
   "cell_type": "code",
   "execution_count": 10,
   "metadata": {},
   "outputs": [
    {
     "data": {
      "text/plain": [
       "[{'pop': 0.5,\n",
       "  'pl': 2,\n",
       "  'time_ks': KstestResult(statistic=0.3076923076923077, pvalue=0.5881960656115993),\n",
       "  'churn_ks': KstestResult(statistic=0.5142857142857142, pvalue=0.00014044378179541567),\n",
       "  'mean_jsd': 0.15081141983865382},\n",
       " {'pop': 0.5,\n",
       "  'pl': 1,\n",
       "  'time_ks': KstestResult(statistic=0.3076923076923077, pvalue=0.5881960656115993),\n",
       "  'churn_ks': KstestResult(statistic=0.4, pvalue=0.0068714202633811654),\n",
       "  'mean_jsd': 0.16009436075576833},\n",
       " {'pop': 0.5,\n",
       "  'pl': 1.5,\n",
       "  'time_ks': KstestResult(statistic=0.2857142857142857, pvalue=0.6354849613377005),\n",
       "  'churn_ks': KstestResult(statistic=0.4, pvalue=0.0068714202633811654),\n",
       "  'mean_jsd': 0.17915119641859237},\n",
       " {'pop': 0.2,\n",
       "  'pl': 1,\n",
       "  'time_ks': KstestResult(statistic=0.2857142857142857, pvalue=0.6354849613377005),\n",
       "  'churn_ks': KstestResult(statistic=0.5428571428571428, pvalue=4.421378315781605e-05),\n",
       "  'mean_jsd': 0.18533293815159574},\n",
       " {'pop': 0.8,\n",
       "  'pl': 1.5,\n",
       "  'time_ks': KstestResult(statistic=0.3076923076923077, pvalue=0.5881960656115993),\n",
       "  'churn_ks': KstestResult(statistic=0.4, pvalue=0.0068714202633811654),\n",
       "  'mean_jsd': 0.19769718542091677},\n",
       " {'pop': 0.8,\n",
       "  'pl': 2,\n",
       "  'time_ks': KstestResult(statistic=0.23076923076923078, pvalue=0.8978057035171046),\n",
       "  'churn_ks': KstestResult(statistic=0.3142857142857143, pvalue=0.06254809022921919),\n",
       "  'mean_jsd': 0.19995765019739734},\n",
       " {'pop': 0.2,\n",
       "  'pl': 1.5,\n",
       "  'time_ks': KstestResult(statistic=0.3076923076923077, pvalue=0.5881960656115993),\n",
       "  'churn_ks': KstestResult(statistic=0.6285714285714286, pvalue=8.46196806848154e-07),\n",
       "  'mean_jsd': 0.21551244102390016},\n",
       " {'pop': 0.2,\n",
       "  'pl': 2,\n",
       "  'time_ks': KstestResult(statistic=0.35714285714285715, pvalue=0.3433204708275377),\n",
       "  'churn_ks': KstestResult(statistic=0.6571428571428571, pvalue=1.8966480153493105e-07),\n",
       "  'mean_jsd': 0.21997922851375845},\n",
       " {'pop': 0.8,\n",
       "  'pl': 1,\n",
       "  'time_ks': KstestResult(statistic=0.23076923076923078, pvalue=0.8978057035171046),\n",
       "  'churn_ks': KstestResult(statistic=0.2, pvalue=0.49164475706932775),\n",
       "  'mean_jsd': 0.23614327635335544}]"
      ]
     },
     "execution_count": 10,
     "metadata": {},
     "output_type": "execute_result"
    }
   ],
   "source": [
    "results"
   ]
  },
  {
   "cell_type": "code",
   "execution_count": null,
   "metadata": {},
   "outputs": [],
   "source": []
  }
 ],
 "metadata": {
  "interpreter": {
   "hash": "89a4d73983e1f069de4746b5cb29c1ac484ee22d3a67dcc8f3efbe4a9a47974a"
  },
  "kernelspec": {
   "display_name": "Python 3.9.5 ('netflix')",
   "language": "python",
   "name": "python3"
  },
  "language_info": {
   "codemirror_mode": {
    "name": "ipython",
    "version": 3
   },
   "file_extension": ".py",
   "mimetype": "text/x-python",
   "name": "python",
   "nbconvert_exporter": "python",
   "pygments_lexer": "ipython3",
   "version": "3.9.5"
  },
  "orig_nbformat": 4
 },
 "nbformat": 4,
 "nbformat_minor": 2
}
