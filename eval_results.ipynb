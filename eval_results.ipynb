{
 "cells": [
  {
   "cell_type": "code",
   "execution_count": 46,
   "metadata": {},
   "outputs": [],
   "source": [
    "import pathlib\n",
    "\n",
    "import pandas as pd\n",
    "import seaborn as sns\n",
    "import statsmodels.api as sm\n",
    "import statsmodels.formula.api as smf"
   ]
  },
  {
   "cell_type": "code",
   "execution_count": 34,
   "metadata": {},
   "outputs": [],
   "source": [
    "results_files = pathlib.Path(\"./data/\").glob(\"results*\")\n",
    "results = []\n",
    "for f in results_files:\n",
    "    df = pd.read_csv(f)\n",
    "    parts = str(f).replace(\".csv\", \"\").split(\"_\")\n",
    "    df['num_agents'] = int(parts[1])\n",
    "    df['num_items'] = int(parts[2])\n",
    "    df['num_weeks'] = int(parts[3])\n",
    "    results.append(df)\n",
    "results = pd.concat(results).reset_index(drop=True)"
   ]
  },
  {
   "cell_type": "code",
   "execution_count": 35,
   "metadata": {},
   "outputs": [],
   "source": [
    "def parse_results(s):\n",
    "    parts = s.split(\",\")\n",
    "    stat = float(parts[0].split(\"=\")[-1])\n",
    "    pval = float(parts[1].split(\"=\")[-1].replace(\")\", \"\"))\n",
    "    return [stat, pval]"
   ]
  },
  {
   "cell_type": "code",
   "execution_count": 36,
   "metadata": {},
   "outputs": [],
   "source": [
    "results['time_split'] = results['time_ks'].apply(parse_results)\n",
    "results['churn_split'] = results['churn_ks'].apply(parse_results)"
   ]
  },
  {
   "cell_type": "code",
   "execution_count": 37,
   "metadata": {},
   "outputs": [],
   "source": [
    "time = pd.DataFrame(results['time_split'].tolist(), columns=[\"time_stat\", \"time_pval\"])\n",
    "churn = pd.DataFrame(results['churn_split'].tolist(), columns=[\"churn_stat\", \"churn_pval\"])\n",
    "results = pd.concat([results.drop(columns=['time_ks', 'churn_ks', 'time_split', 'churn_split']), time, churn], axis=1)"
   ]
  },
  {
   "cell_type": "code",
   "execution_count": 38,
   "metadata": {},
   "outputs": [
    {
     "data": {
      "text/html": [
       "<div>\n",
       "<style scoped>\n",
       "    .dataframe tbody tr th:only-of-type {\n",
       "        vertical-align: middle;\n",
       "    }\n",
       "\n",
       "    .dataframe tbody tr th {\n",
       "        vertical-align: top;\n",
       "    }\n",
       "\n",
       "    .dataframe thead th {\n",
       "        text-align: right;\n",
       "    }\n",
       "</style>\n",
       "<table border=\"1\" class=\"dataframe\">\n",
       "  <thead>\n",
       "    <tr style=\"text-align: right;\">\n",
       "      <th></th>\n",
       "      <th>pop</th>\n",
       "      <th>pl</th>\n",
       "      <th>mean_jsd</th>\n",
       "      <th>num_agents</th>\n",
       "      <th>num_items</th>\n",
       "      <th>num_weeks</th>\n",
       "      <th>time_stat</th>\n",
       "      <th>time_pval</th>\n",
       "      <th>churn_stat</th>\n",
       "      <th>churn_pval</th>\n",
       "    </tr>\n",
       "  </thead>\n",
       "  <tbody>\n",
       "    <tr>\n",
       "      <th>35</th>\n",
       "      <td>0.60</td>\n",
       "      <td>1.000000</td>\n",
       "      <td>0.149809</td>\n",
       "      <td>2000000</td>\n",
       "      <td>116</td>\n",
       "      <td>36</td>\n",
       "      <td>0.307692</td>\n",
       "      <td>0.588196</td>\n",
       "      <td>0.371429</td>\n",
       "      <td>1.530453e-02</td>\n",
       "    </tr>\n",
       "    <tr>\n",
       "      <th>15</th>\n",
       "      <td>0.75</td>\n",
       "      <td>1.000000</td>\n",
       "      <td>0.156501</td>\n",
       "      <td>1000000</td>\n",
       "      <td>116</td>\n",
       "      <td>36</td>\n",
       "      <td>0.384615</td>\n",
       "      <td>0.299920</td>\n",
       "      <td>0.285714</td>\n",
       "      <td>1.150772e-01</td>\n",
       "    </tr>\n",
       "    <tr>\n",
       "      <th>50</th>\n",
       "      <td>0.70</td>\n",
       "      <td>1.555556</td>\n",
       "      <td>0.159607</td>\n",
       "      <td>2000000</td>\n",
       "      <td>116</td>\n",
       "      <td>36</td>\n",
       "      <td>0.230769</td>\n",
       "      <td>0.897806</td>\n",
       "      <td>0.314286</td>\n",
       "      <td>6.254809e-02</td>\n",
       "    </tr>\n",
       "    <tr>\n",
       "      <th>12</th>\n",
       "      <td>0.50</td>\n",
       "      <td>1.500000</td>\n",
       "      <td>0.161959</td>\n",
       "      <td>1000000</td>\n",
       "      <td>116</td>\n",
       "      <td>36</td>\n",
       "      <td>0.230769</td>\n",
       "      <td>0.897806</td>\n",
       "      <td>0.514286</td>\n",
       "      <td>1.404438e-04</td>\n",
       "    </tr>\n",
       "    <tr>\n",
       "      <th>31</th>\n",
       "      <td>0.50</td>\n",
       "      <td>1.666667</td>\n",
       "      <td>0.172317</td>\n",
       "      <td>2000000</td>\n",
       "      <td>116</td>\n",
       "      <td>36</td>\n",
       "      <td>0.285714</td>\n",
       "      <td>0.635485</td>\n",
       "      <td>0.514286</td>\n",
       "      <td>1.404438e-04</td>\n",
       "    </tr>\n",
       "    <tr>\n",
       "      <th>...</th>\n",
       "      <td>...</td>\n",
       "      <td>...</td>\n",
       "      <td>...</td>\n",
       "      <td>...</td>\n",
       "      <td>...</td>\n",
       "      <td>...</td>\n",
       "      <td>...</td>\n",
       "      <td>...</td>\n",
       "      <td>...</td>\n",
       "      <td>...</td>\n",
       "    </tr>\n",
       "    <tr>\n",
       "      <th>47</th>\n",
       "      <td>0.70</td>\n",
       "      <td>1.222222</td>\n",
       "      <td>0.280049</td>\n",
       "      <td>2000000</td>\n",
       "      <td>116</td>\n",
       "      <td>36</td>\n",
       "      <td>0.250000</td>\n",
       "      <td>0.716412</td>\n",
       "      <td>0.628571</td>\n",
       "      <td>8.461968e-07</td>\n",
       "    </tr>\n",
       "    <tr>\n",
       "      <th>20</th>\n",
       "      <td>1.00</td>\n",
       "      <td>1.000000</td>\n",
       "      <td>0.306926</td>\n",
       "      <td>1000000</td>\n",
       "      <td>116</td>\n",
       "      <td>36</td>\n",
       "      <td>0.538462</td>\n",
       "      <td>0.044272</td>\n",
       "      <td>1.000000</td>\n",
       "      <td>1.782749e-20</td>\n",
       "    </tr>\n",
       "    <tr>\n",
       "      <th>24</th>\n",
       "      <td>1.00</td>\n",
       "      <td>2.000000</td>\n",
       "      <td>0.329638</td>\n",
       "      <td>1000000</td>\n",
       "      <td>116</td>\n",
       "      <td>36</td>\n",
       "      <td>0.538462</td>\n",
       "      <td>0.044272</td>\n",
       "      <td>0.971429</td>\n",
       "      <td>1.247924e-18</td>\n",
       "    </tr>\n",
       "    <tr>\n",
       "      <th>23</th>\n",
       "      <td>1.00</td>\n",
       "      <td>1.750000</td>\n",
       "      <td>0.335940</td>\n",
       "      <td>1000000</td>\n",
       "      <td>116</td>\n",
       "      <td>36</td>\n",
       "      <td>0.461538</td>\n",
       "      <td>0.126488</td>\n",
       "      <td>0.971429</td>\n",
       "      <td>1.247924e-18</td>\n",
       "    </tr>\n",
       "    <tr>\n",
       "      <th>22</th>\n",
       "      <td>1.00</td>\n",
       "      <td>1.500000</td>\n",
       "      <td>0.340249</td>\n",
       "      <td>1000000</td>\n",
       "      <td>116</td>\n",
       "      <td>36</td>\n",
       "      <td>0.384615</td>\n",
       "      <td>0.299920</td>\n",
       "      <td>0.971429</td>\n",
       "      <td>1.247924e-18</td>\n",
       "    </tr>\n",
       "  </tbody>\n",
       "</table>\n",
       "<p>65 rows × 10 columns</p>\n",
       "</div>"
      ],
      "text/plain": [
       "     pop        pl  mean_jsd  num_agents  num_items  num_weeks  time_stat  \\\n",
       "35  0.60  1.000000  0.149809     2000000        116         36   0.307692   \n",
       "15  0.75  1.000000  0.156501     1000000        116         36   0.384615   \n",
       "50  0.70  1.555556  0.159607     2000000        116         36   0.230769   \n",
       "12  0.50  1.500000  0.161959     1000000        116         36   0.230769   \n",
       "31  0.50  1.666667  0.172317     2000000        116         36   0.285714   \n",
       "..   ...       ...       ...         ...        ...        ...        ...   \n",
       "47  0.70  1.222222  0.280049     2000000        116         36   0.250000   \n",
       "20  1.00  1.000000  0.306926     1000000        116         36   0.538462   \n",
       "24  1.00  2.000000  0.329638     1000000        116         36   0.538462   \n",
       "23  1.00  1.750000  0.335940     1000000        116         36   0.461538   \n",
       "22  1.00  1.500000  0.340249     1000000        116         36   0.384615   \n",
       "\n",
       "    time_pval  churn_stat    churn_pval  \n",
       "35   0.588196    0.371429  1.530453e-02  \n",
       "15   0.299920    0.285714  1.150772e-01  \n",
       "50   0.897806    0.314286  6.254809e-02  \n",
       "12   0.897806    0.514286  1.404438e-04  \n",
       "31   0.635485    0.514286  1.404438e-04  \n",
       "..        ...         ...           ...  \n",
       "47   0.716412    0.628571  8.461968e-07  \n",
       "20   0.044272    1.000000  1.782749e-20  \n",
       "24   0.044272    0.971429  1.247924e-18  \n",
       "23   0.126488    0.971429  1.247924e-18  \n",
       "22   0.299920    0.971429  1.247924e-18  \n",
       "\n",
       "[65 rows x 10 columns]"
      ]
     },
     "execution_count": 38,
     "metadata": {},
     "output_type": "execute_result"
    }
   ],
   "source": [
    "results.sort_values(by=[\"mean_jsd\", \"time_stat\", \"churn_stat\"], ascending=True)"
   ]
  },
  {
   "cell_type": "code",
   "execution_count": 7,
   "metadata": {},
   "outputs": [
    {
     "data": {
      "text/plain": [
       "<seaborn.axisgrid.FacetGrid at 0x17d1888efd0>"
      ]
     },
     "execution_count": 7,
     "metadata": {},
     "output_type": "execute_result"
    },
    {
     "data": {
      "image/png": "[encoded data removed]",
      "text/plain": [
       "<Figure size 412x360 with 1 Axes>"
      ]
     },
     "metadata": {
      "needs_background": "light"
     },
     "output_type": "display_data"
    }
   ],
   "source": [
    "sns.relplot(data=results, x=\"pop\", y=\"mean_jsd\", hue=\"pl\")"
   ]
  },
  {
   "cell_type": "code",
   "execution_count": 58,
   "metadata": {},
   "outputs": [
    {
     "data": {
      "text/plain": [
       "<seaborn.axisgrid.FacetGrid at 0x17d1eaefd00>"
      ]
     },
     "execution_count": 58,
     "metadata": {},
     "output_type": "execute_result"
    },
    {
     "data": {
      "image/png": "[encoded data removed]",
      "text/plain": [
       "<Figure size 360x360 with 1 Axes>"
      ]
     },
     "metadata": {
      "needs_background": "light"
     },
     "output_type": "display_data"
    }
   ],
   "source": [
    "sns.relplot(data=results, x=\"pl\", y=\"churn_stat\")"
   ]
  },
  {
   "cell_type": "code",
   "execution_count": 59,
   "metadata": {},
   "outputs": [
    {
     "data": {
      "text/plain": [
       "<seaborn.axisgrid.FacetGrid at 0x17d1ebf8be0>"
      ]
     },
     "execution_count": 59,
     "metadata": {},
     "output_type": "execute_result"
    },
    {
     "data": {
      "image/png": "[encoded data removed]",
      "text/plain": [
       "<Figure size 360x360 with 1 Axes>"
      ]
     },
     "metadata": {
      "needs_background": "light"
     },
     "output_type": "display_data"
    }
   ],
   "source": [
    "sns.relplot(data=results, x=\"pl\", y=\"time_stat\")"
   ]
  },
  {
   "cell_type": "code",
   "execution_count": 28,
   "metadata": {},
   "outputs": [
    {
     "data": {
      "text/plain": [
       "<AxesSubplot:xlabel='pl', ylabel='mean_jsd'>"
      ]
     },
     "execution_count": 28,
     "metadata": {},
     "output_type": "execute_result"
    },
    {
     "data": {
      "image/png": "[encoded data removed]",
      "text/plain": [
       "<Figure size 432x288 with 1 Axes>"
      ]
     },
     "metadata": {
      "needs_background": "light"
     },
     "output_type": "display_data"
    }
   ],
   "source": [
    "sns.boxplot(data=results, x=\"pl\", y=\"mean_jsd\")"
   ]
  },
  {
   "cell_type": "code",
   "execution_count": 57,
   "metadata": {},
   "outputs": [
    {
     "data": {
      "text/html": [
       "<table class=\"simpletable\">\n",
       "<caption>OLS Regression Results</caption>\n",
       "<tr>\n",
       "  <th>Dep. Variable:</th>        <td>mean_jsd</td>     <th>  R-squared:         </th> <td>   0.602</td>\n",
       "</tr>\n",
       "<tr>\n",
       "  <th>Model:</th>                   <td>OLS</td>       <th>  Adj. R-squared:    </th> <td>   0.576</td>\n",
       "</tr>\n",
       "<tr>\n",
       "  <th>Method:</th>             <td>Least Squares</td>  <th>  F-statistic:       </th> <td>   22.72</td>\n",
       "</tr>\n",
       "<tr>\n",
       "  <th>Date:</th>             <td>Wed, 01 Jun 2022</td> <th>  Prob (F-statistic):</th> <td>1.84e-11</td>\n",
       "</tr>\n",
       "<tr>\n",
       "  <th>Time:</th>                 <td>12:40:32</td>     <th>  Log-Likelihood:    </th> <td>  149.65</td>\n",
       "</tr>\n",
       "<tr>\n",
       "  <th>No. Observations:</th>      <td>    65</td>      <th>  AIC:               </th> <td>  -289.3</td>\n",
       "</tr>\n",
       "<tr>\n",
       "  <th>Df Residuals:</th>          <td>    60</td>      <th>  BIC:               </th> <td>  -278.4</td>\n",
       "</tr>\n",
       "<tr>\n",
       "  <th>Df Model:</th>              <td>     4</td>      <th>                     </th>     <td> </td>   \n",
       "</tr>\n",
       "<tr>\n",
       "  <th>Covariance Type:</th>      <td>nonrobust</td>    <th>                     </th>     <td> </td>   \n",
       "</tr>\n",
       "</table>\n",
       "<table class=\"simpletable\">\n",
       "<tr>\n",
       "        <td></td>           <th>coef</th>     <th>std err</th>      <th>t</th>      <th>P>|t|</th>  <th>[0.025</th>    <th>0.975]</th>  \n",
       "</tr>\n",
       "<tr>\n",
       "  <th>Intercept</th>     <td>    0.2241</td> <td>    0.018</td> <td>   12.114</td> <td> 0.000</td> <td>    0.187</td> <td>    0.261</td>\n",
       "</tr>\n",
       "<tr>\n",
       "  <th>pop</th>           <td>   -0.2289</td> <td>    0.048</td> <td>   -4.720</td> <td> 0.000</td> <td>   -0.326</td> <td>   -0.132</td>\n",
       "</tr>\n",
       "<tr>\n",
       "  <th>I(pop ** 2.0)</th> <td>    0.2901</td> <td>    0.045</td> <td>    6.476</td> <td> 0.000</td> <td>    0.201</td> <td>    0.380</td>\n",
       "</tr>\n",
       "<tr>\n",
       "  <th>pl</th>            <td>    0.0112</td> <td>    0.009</td> <td>    1.190</td> <td> 0.239</td> <td>   -0.008</td> <td>    0.030</td>\n",
       "</tr>\n",
       "<tr>\n",
       "  <th>num_agents</th>    <td>-9.483e-09</td> <td> 7.99e-09</td> <td>   -1.187</td> <td> 0.240</td> <td>-2.55e-08</td> <td> 6.49e-09</td>\n",
       "</tr>\n",
       "</table>\n",
       "<table class=\"simpletable\">\n",
       "<tr>\n",
       "  <th>Omnibus:</th>       <td> 3.990</td> <th>  Durbin-Watson:     </th> <td>   1.665</td>\n",
       "</tr>\n",
       "<tr>\n",
       "  <th>Prob(Omnibus):</th> <td> 0.136</td> <th>  Jarque-Bera (JB):  </th> <td>   3.355</td>\n",
       "</tr>\n",
       "<tr>\n",
       "  <th>Skew:</th>          <td> 0.333</td> <th>  Prob(JB):          </th> <td>   0.187</td>\n",
       "</tr>\n",
       "<tr>\n",
       "  <th>Kurtosis:</th>      <td> 3.892</td> <th>  Cond. No.          </th> <td>3.53e+07</td>\n",
       "</tr>\n",
       "</table><br/><br/>Notes:<br/>[1] Standard Errors assume that the covariance matrix of the errors is correctly specified.<br/>[2] The condition number is large, 3.53e+07. This might indicate that there are<br/>strong multicollinearity or other numerical problems."
      ],
      "text/plain": [
       "<class 'statsmodels.iolib.summary.Summary'>\n",
       "\"\"\"\n",
       "                            OLS Regression Results                            \n",
       "==============================================================================\n",
       "Dep. Variable:               mean_jsd   R-squared:                       0.602\n",
       "Model:                            OLS   Adj. R-squared:                  0.576\n",
       "Method:                 Least Squares   F-statistic:                     22.72\n",
       "Date:                Wed, 01 Jun 2022   Prob (F-statistic):           1.84e-11\n",
       "Time:                        12:40:32   Log-Likelihood:                 149.65\n",
       "No. Observations:                  65   AIC:                            -289.3\n",
       "Df Residuals:                      60   BIC:                            -278.4\n",
       "Df Model:                           4                                         \n",
       "Covariance Type:            nonrobust                                         \n",
       "=================================================================================\n",
       "                    coef    std err          t      P>|t|      [0.025      0.975]\n",
       "---------------------------------------------------------------------------------\n",
       "Intercept         0.2241      0.018     12.114      0.000       0.187       0.261\n",
       "pop              -0.2289      0.048     -4.720      0.000      -0.326      -0.132\n",
       "I(pop ** 2.0)     0.2901      0.045      6.476      0.000       0.201       0.380\n",
       "pl                0.0112      0.009      1.190      0.239      -0.008       0.030\n",
       "num_agents    -9.483e-09   7.99e-09     -1.187      0.240   -2.55e-08    6.49e-09\n",
       "==============================================================================\n",
       "Omnibus:                        3.990   Durbin-Watson:                   1.665\n",
       "Prob(Omnibus):                  0.136   Jarque-Bera (JB):                3.355\n",
       "Skew:                           0.333   Prob(JB):                        0.187\n",
       "Kurtosis:                       3.892   Cond. No.                     3.53e+07\n",
       "==============================================================================\n",
       "\n",
       "Notes:\n",
       "[1] Standard Errors assume that the covariance matrix of the errors is correctly specified.\n",
       "[2] The condition number is large, 3.53e+07. This might indicate that there are\n",
       "strong multicollinearity or other numerical problems.\n",
       "\"\"\""
      ]
     },
     "execution_count": 57,
     "metadata": {},
     "output_type": "execute_result"
    }
   ],
   "source": [
    "est = smf.ols(formula=\"mean_jsd ~ 1 + pop + I(pop ** 2.0) + pl + num_agents\", data=results).fit()\n",
    "est.summary()"
   ]
  },
  {
   "cell_type": "code",
   "execution_count": 60,
   "metadata": {},
   "outputs": [
    {
     "data": {
      "text/html": [
       "<table class=\"simpletable\">\n",
       "<caption>OLS Regression Results</caption>\n",
       "<tr>\n",
       "  <th>Dep. Variable:</th>       <td>churn_stat</td>    <th>  R-squared:         </th> <td>   0.304</td>\n",
       "</tr>\n",
       "<tr>\n",
       "  <th>Model:</th>                   <td>OLS</td>       <th>  Adj. R-squared:    </th> <td>   0.270</td>\n",
       "</tr>\n",
       "<tr>\n",
       "  <th>Method:</th>             <td>Least Squares</td>  <th>  F-statistic:       </th> <td>   8.875</td>\n",
       "</tr>\n",
       "<tr>\n",
       "  <th>Date:</th>             <td>Wed, 01 Jun 2022</td> <th>  Prob (F-statistic):</th> <td>5.74e-05</td>\n",
       "</tr>\n",
       "<tr>\n",
       "  <th>Time:</th>                 <td>12:41:32</td>     <th>  Log-Likelihood:    </th> <td>  27.337</td>\n",
       "</tr>\n",
       "<tr>\n",
       "  <th>No. Observations:</th>      <td>    65</td>      <th>  AIC:               </th> <td>  -46.67</td>\n",
       "</tr>\n",
       "<tr>\n",
       "  <th>Df Residuals:</th>          <td>    61</td>      <th>  BIC:               </th> <td>  -37.98</td>\n",
       "</tr>\n",
       "<tr>\n",
       "  <th>Df Model:</th>              <td>     3</td>      <th>                     </th>     <td> </td>   \n",
       "</tr>\n",
       "<tr>\n",
       "  <th>Covariance Type:</th>      <td>nonrobust</td>    <th>                     </th>     <td> </td>   \n",
       "</tr>\n",
       "</table>\n",
       "<table class=\"simpletable\">\n",
       "<tr>\n",
       "       <td></td>         <th>coef</th>     <th>std err</th>      <th>t</th>      <th>P>|t|</th>  <th>[0.025</th>    <th>0.975]</th>  \n",
       "</tr>\n",
       "<tr>\n",
       "  <th>Intercept</th>  <td>    0.8161</td> <td>    0.120</td> <td>    6.826</td> <td> 0.000</td> <td>    0.577</td> <td>    1.055</td>\n",
       "</tr>\n",
       "<tr>\n",
       "  <th>pop</th>        <td>    0.0339</td> <td>    0.086</td> <td>    0.393</td> <td> 0.695</td> <td>   -0.138</td> <td>    0.206</td>\n",
       "</tr>\n",
       "<tr>\n",
       "  <th>pl</th>         <td>    0.0164</td> <td>    0.061</td> <td>    0.269</td> <td> 0.789</td> <td>   -0.106</td> <td>    0.139</td>\n",
       "</tr>\n",
       "<tr>\n",
       "  <th>num_agents</th> <td>-2.199e-07</td> <td> 4.38e-08</td> <td>   -5.025</td> <td> 0.000</td> <td>-3.07e-07</td> <td>-1.32e-07</td>\n",
       "</tr>\n",
       "</table>\n",
       "<table class=\"simpletable\">\n",
       "<tr>\n",
       "  <th>Omnibus:</th>       <td> 0.270</td> <th>  Durbin-Watson:     </th> <td>   0.729</td>\n",
       "</tr>\n",
       "<tr>\n",
       "  <th>Prob(Omnibus):</th> <td> 0.874</td> <th>  Jarque-Bera (JB):  </th> <td>   0.023</td>\n",
       "</tr>\n",
       "<tr>\n",
       "  <th>Skew:</th>          <td> 0.028</td> <th>  Prob(JB):          </th> <td>   0.989</td>\n",
       "</tr>\n",
       "<tr>\n",
       "  <th>Kurtosis:</th>      <td> 3.072</td> <th>  Cond. No.          </th> <td>1.09e+07</td>\n",
       "</tr>\n",
       "</table><br/><br/>Notes:<br/>[1] Standard Errors assume that the covariance matrix of the errors is correctly specified.<br/>[2] The condition number is large, 1.09e+07. This might indicate that there are<br/>strong multicollinearity or other numerical problems."
      ],
      "text/plain": [
       "<class 'statsmodels.iolib.summary.Summary'>\n",
       "\"\"\"\n",
       "                            OLS Regression Results                            \n",
       "==============================================================================\n",
       "Dep. Variable:             churn_stat   R-squared:                       0.304\n",
       "Model:                            OLS   Adj. R-squared:                  0.270\n",
       "Method:                 Least Squares   F-statistic:                     8.875\n",
       "Date:                Wed, 01 Jun 2022   Prob (F-statistic):           5.74e-05\n",
       "Time:                        12:41:32   Log-Likelihood:                 27.337\n",
       "No. Observations:                  65   AIC:                            -46.67\n",
       "Df Residuals:                      61   BIC:                            -37.98\n",
       "Df Model:                           3                                         \n",
       "Covariance Type:            nonrobust                                         \n",
       "==============================================================================\n",
       "                 coef    std err          t      P>|t|      [0.025      0.975]\n",
       "------------------------------------------------------------------------------\n",
       "Intercept      0.8161      0.120      6.826      0.000       0.577       1.055\n",
       "pop            0.0339      0.086      0.393      0.695      -0.138       0.206\n",
       "pl             0.0164      0.061      0.269      0.789      -0.106       0.139\n",
       "num_agents -2.199e-07   4.38e-08     -5.025      0.000   -3.07e-07   -1.32e-07\n",
       "==============================================================================\n",
       "Omnibus:                        0.270   Durbin-Watson:                   0.729\n",
       "Prob(Omnibus):                  0.874   Jarque-Bera (JB):                0.023\n",
       "Skew:                           0.028   Prob(JB):                        0.989\n",
       "Kurtosis:                       3.072   Cond. No.                     1.09e+07\n",
       "==============================================================================\n",
       "\n",
       "Notes:\n",
       "[1] Standard Errors assume that the covariance matrix of the errors is correctly specified.\n",
       "[2] The condition number is large, 1.09e+07. This might indicate that there are\n",
       "strong multicollinearity or other numerical problems.\n",
       "\"\"\""
      ]
     },
     "execution_count": 60,
     "metadata": {},
     "output_type": "execute_result"
    }
   ],
   "source": [
    "est = smf.ols(formula=\"churn_stat ~ 1 + pop + pl + num_agents\", data=results).fit()\n",
    "est.summary()"
   ]
  },
  {
   "cell_type": "code",
   "execution_count": 61,
   "metadata": {},
   "outputs": [
    {
     "data": {
      "text/html": [
       "<table class=\"simpletable\">\n",
       "<caption>OLS Regression Results</caption>\n",
       "<tr>\n",
       "  <th>Dep. Variable:</th>        <td>time_stat</td>    <th>  R-squared:         </th> <td>   0.303</td>\n",
       "</tr>\n",
       "<tr>\n",
       "  <th>Model:</th>                   <td>OLS</td>       <th>  Adj. R-squared:    </th> <td>   0.268</td>\n",
       "</tr>\n",
       "<tr>\n",
       "  <th>Method:</th>             <td>Least Squares</td>  <th>  F-statistic:       </th> <td>   8.829</td>\n",
       "</tr>\n",
       "<tr>\n",
       "  <th>Date:</th>             <td>Wed, 01 Jun 2022</td> <th>  Prob (F-statistic):</th> <td>6.01e-05</td>\n",
       "</tr>\n",
       "<tr>\n",
       "  <th>Time:</th>                 <td>12:41:45</td>     <th>  Log-Likelihood:    </th> <td>  86.502</td>\n",
       "</tr>\n",
       "<tr>\n",
       "  <th>No. Observations:</th>      <td>    65</td>      <th>  AIC:               </th> <td>  -165.0</td>\n",
       "</tr>\n",
       "<tr>\n",
       "  <th>Df Residuals:</th>          <td>    61</td>      <th>  BIC:               </th> <td>  -156.3</td>\n",
       "</tr>\n",
       "<tr>\n",
       "  <th>Df Model:</th>              <td>     3</td>      <th>                     </th>     <td> </td>   \n",
       "</tr>\n",
       "<tr>\n",
       "  <th>Covariance Type:</th>      <td>nonrobust</td>    <th>                     </th>     <td> </td>   \n",
       "</tr>\n",
       "</table>\n",
       "<table class=\"simpletable\">\n",
       "<tr>\n",
       "       <td></td>         <th>coef</th>     <th>std err</th>      <th>t</th>      <th>P>|t|</th>  <th>[0.025</th>    <th>0.975]</th>  \n",
       "</tr>\n",
       "<tr>\n",
       "  <th>Intercept</th>  <td>    0.3310</td> <td>    0.048</td> <td>    6.879</td> <td> 0.000</td> <td>    0.235</td> <td>    0.427</td>\n",
       "</tr>\n",
       "<tr>\n",
       "  <th>pop</th>        <td>    0.1514</td> <td>    0.035</td> <td>    4.366</td> <td> 0.000</td> <td>    0.082</td> <td>    0.221</td>\n",
       "</tr>\n",
       "<tr>\n",
       "  <th>pl</th>         <td>   -0.0100</td> <td>    0.025</td> <td>   -0.406</td> <td> 0.686</td> <td>   -0.059</td> <td>    0.039</td>\n",
       "</tr>\n",
       "<tr>\n",
       "  <th>num_agents</th> <td>-6.804e-08</td> <td> 1.76e-08</td> <td>   -3.863</td> <td> 0.000</td> <td>-1.03e-07</td> <td>-3.28e-08</td>\n",
       "</tr>\n",
       "</table>\n",
       "<table class=\"simpletable\">\n",
       "<tr>\n",
       "  <th>Omnibus:</th>       <td> 0.875</td> <th>  Durbin-Watson:     </th> <td>   1.383</td>\n",
       "</tr>\n",
       "<tr>\n",
       "  <th>Prob(Omnibus):</th> <td> 0.646</td> <th>  Jarque-Bera (JB):  </th> <td>   0.411</td>\n",
       "</tr>\n",
       "<tr>\n",
       "  <th>Skew:</th>          <td> 0.169</td> <th>  Prob(JB):          </th> <td>   0.814</td>\n",
       "</tr>\n",
       "<tr>\n",
       "  <th>Kurtosis:</th>      <td> 3.195</td> <th>  Cond. No.          </th> <td>1.09e+07</td>\n",
       "</tr>\n",
       "</table><br/><br/>Notes:<br/>[1] Standard Errors assume that the covariance matrix of the errors is correctly specified.<br/>[2] The condition number is large, 1.09e+07. This might indicate that there are<br/>strong multicollinearity or other numerical problems."
      ],
      "text/plain": [
       "<class 'statsmodels.iolib.summary.Summary'>\n",
       "\"\"\"\n",
       "                            OLS Regression Results                            \n",
       "==============================================================================\n",
       "Dep. Variable:              time_stat   R-squared:                       0.303\n",
       "Model:                            OLS   Adj. R-squared:                  0.268\n",
       "Method:                 Least Squares   F-statistic:                     8.829\n",
       "Date:                Wed, 01 Jun 2022   Prob (F-statistic):           6.01e-05\n",
       "Time:                        12:41:45   Log-Likelihood:                 86.502\n",
       "No. Observations:                  65   AIC:                            -165.0\n",
       "Df Residuals:                      61   BIC:                            -156.3\n",
       "Df Model:                           3                                         \n",
       "Covariance Type:            nonrobust                                         \n",
       "==============================================================================\n",
       "                 coef    std err          t      P>|t|      [0.025      0.975]\n",
       "------------------------------------------------------------------------------\n",
       "Intercept      0.3310      0.048      6.879      0.000       0.235       0.427\n",
       "pop            0.1514      0.035      4.366      0.000       0.082       0.221\n",
       "pl            -0.0100      0.025     -0.406      0.686      -0.059       0.039\n",
       "num_agents -6.804e-08   1.76e-08     -3.863      0.000   -1.03e-07   -3.28e-08\n",
       "==============================================================================\n",
       "Omnibus:                        0.875   Durbin-Watson:                   1.383\n",
       "Prob(Omnibus):                  0.646   Jarque-Bera (JB):                0.411\n",
       "Skew:                           0.169   Prob(JB):                        0.814\n",
       "Kurtosis:                       3.195   Cond. No.                     1.09e+07\n",
       "==============================================================================\n",
       "\n",
       "Notes:\n",
       "[1] Standard Errors assume that the covariance matrix of the errors is correctly specified.\n",
       "[2] The condition number is large, 1.09e+07. This might indicate that there are\n",
       "strong multicollinearity or other numerical problems.\n",
       "\"\"\""
      ]
     },
     "execution_count": 61,
     "metadata": {},
     "output_type": "execute_result"
    }
   ],
   "source": [
    "est = smf.ols(formula=\"time_stat ~ 1 + pop + pl + num_agents\", data=results).fit()\n",
    "est.summary()"
   ]
  },
  {
   "cell_type": "code",
   "execution_count": 62,
   "metadata": {},
   "outputs": [
    {
     "data": {
      "text/plain": [
       "pl\n",
       "1.555556    0.188333\n",
       "1.666667    0.191494\n",
       "1.222222    0.193443\n",
       "1.111111    0.194965\n",
       "1.000000    0.195116\n",
       "1.888889    0.197957\n",
       "2.000000    0.198568\n",
       "1.444444    0.199195\n",
       "1.500000    0.199240\n",
       "1.333333    0.201033\n",
       "1.777778    0.209284\n",
       "1.250000    0.222320\n",
       "1.750000    0.228259\n",
       "Name: mean_jsd, dtype: float64"
      ]
     },
     "execution_count": 62,
     "metadata": {},
     "output_type": "execute_result"
    }
   ],
   "source": [
    "results.groupby(\"pl\").median()['mean_jsd'].sort_values()"
   ]
  },
  {
   "cell_type": "code",
   "execution_count": null,
   "metadata": {},
   "outputs": [],
   "source": []
  }
 ],
 "metadata": {
  "interpreter": {
   "hash": "6a744c7818b63a1e4fc939abde1dca5c31d85953ab9c71ed2257581e6b6f4701"
  },
  "kernelspec": {
   "display_name": "Python 3.9.5 ('netflix')",
   "language": "python",
   "name": "python3"
  },
  "language_info": {
   "codemirror_mode": {
    "name": "ipython",
    "version": 3
   },
   "file_extension": ".py",
   "mimetype": "text/x-python",
   "name": "python",
   "nbconvert_exporter": "python",
   "pygments_lexer": "ipython3",
   "version": "3.9.5"
  },
  "orig_nbformat": 4
 },
 "nbformat": 4,
 "nbformat_minor": 2
}
