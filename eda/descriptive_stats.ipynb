{
 "cells": [
  {
   "cell_type": "code",
   "execution_count": 29,
   "metadata": {},
   "outputs": [],
   "source": [
    "import pandas as pd\n",
    "import seaborn as sns"
   ]
  },
  {
   "cell_type": "code",
   "execution_count": 2,
   "metadata": {},
   "outputs": [],
   "source": [
    "# Read in by-country file\n",
    "df = pd.read_csv(\"../data/all-weeks-countries.tsv\", sep='\\t')"
   ]
  },
  {
   "cell_type": "code",
   "execution_count": 21,
   "metadata": {},
   "outputs": [
    {
     "name": "stdout",
     "output_type": "stream",
     "text": [
      "\n",
      "Countries: 94\n",
      "Weeks: 36\n",
      "Items: 2355\n",
      "    76.0% movies\n",
      "    24.4% TV shows\n",
      "\n"
     ]
    }
   ],
   "source": [
    "# Top line descriptive stats\n",
    "unique_values = df.nunique()\n",
    "by_type = df.groupby('category').nunique()\n",
    "print(f\"\"\"\n",
    "Countries: {unique_values.country_name}\n",
    "Weeks: {unique_values.week}\n",
    "Items: {unique_values.show_title}\n",
    "    {round(by_type.iloc[0].show_title / unique_values.show_title * 100, 1)}% movies\n",
    "    {round(by_type.iloc[1].show_title / unique_values.show_title * 100, 1)}% TV shows\n",
    "\"\"\")"
   ]
  },
  {
   "cell_type": "code",
   "execution_count": 33,
   "metadata": {},
   "outputs": [
    {
     "data": {
      "text/plain": [
       "<seaborn.axisgrid.FacetGrid at 0x1b2f19ba070>"
      ]
     },
     "execution_count": 33,
     "metadata": {},
     "output_type": "execute_result"
    },
    {
     "data": {
      "image/png": "[encoded data removed]",
      "text/plain": [
       "<Figure size 432x216 with 2 Axes>"
      ]
     },
     "metadata": {
      "needs_background": "light"
     },
     "output_type": "display_data"
    }
   ],
   "source": [
    "# Distribution of item count by country\n",
    "items_by_country = df.groupby(['country_name', 'category']).nunique().show_title.reset_index()\n",
    "g = sns.FacetGrid(items_by_country, col='category')\n",
    "g.map(sns.histplot, 'show_title')"
   ]
  },
  {
   "cell_type": "code",
   "execution_count": 37,
   "metadata": {},
   "outputs": [
    {
     "data": {
      "text/plain": [
       "<AxesSubplot:>"
      ]
     },
     "execution_count": 37,
     "metadata": {},
     "output_type": "execute_result"
    },
    {
     "data": {
      "image/png": "[encoded data removed]",
      "text/plain": [
       "<Figure size 432x288 with 1 Axes>"
      ]
     },
     "metadata": {
      "needs_background": "light"
     },
     "output_type": "display_data"
    }
   ],
   "source": [
    "# Cumulative week distribution across countries\n",
    "df.groupby('show_title').cumulative_weeks_in_top_10.max().hist()"
   ]
  },
  {
   "cell_type": "code",
   "execution_count": 41,
   "metadata": {},
   "outputs": [
    {
     "data": {
      "text/html": [
       "<div>\n",
       "<style scoped>\n",
       "    .dataframe tbody tr th:only-of-type {\n",
       "        vertical-align: middle;\n",
       "    }\n",
       "\n",
       "    .dataframe tbody tr th {\n",
       "        vertical-align: top;\n",
       "    }\n",
       "\n",
       "    .dataframe thead th {\n",
       "        text-align: right;\n",
       "    }\n",
       "</style>\n",
       "<table border=\"1\" class=\"dataframe\">\n",
       "  <thead>\n",
       "    <tr style=\"text-align: right;\">\n",
       "      <th></th>\n",
       "      <th>country_name</th>\n",
       "      <th>cumulative_weeks_in_top_10</th>\n",
       "      <th>category</th>\n",
       "    </tr>\n",
       "    <tr>\n",
       "      <th>show_title</th>\n",
       "      <th></th>\n",
       "      <th></th>\n",
       "      <th></th>\n",
       "    </tr>\n",
       "  </thead>\n",
       "  <tbody>\n",
       "    <tr>\n",
       "      <th>'76</th>\n",
       "      <td>Nigeria</td>\n",
       "      <td>2</td>\n",
       "      <td>Films</td>\n",
       "    </tr>\n",
       "    <tr>\n",
       "      <th>10 Cloverfield Lane</th>\n",
       "      <td>France</td>\n",
       "      <td>1</td>\n",
       "      <td>Films</td>\n",
       "    </tr>\n",
       "    <tr>\n",
       "      <th>10 Cloverfield Lane</th>\n",
       "      <td>Réunion</td>\n",
       "      <td>1</td>\n",
       "      <td>Films</td>\n",
       "    </tr>\n",
       "    <tr>\n",
       "      <th>10 Cloverfield Lane</th>\n",
       "      <td>South Korea</td>\n",
       "      <td>1</td>\n",
       "      <td>Films</td>\n",
       "    </tr>\n",
       "    <tr>\n",
       "      <th>1000 Miles from Christmas</th>\n",
       "      <td>Cyprus</td>\n",
       "      <td>2</td>\n",
       "      <td>Films</td>\n",
       "    </tr>\n",
       "    <tr>\n",
       "      <th>...</th>\n",
       "      <td>...</td>\n",
       "      <td>...</td>\n",
       "      <td>...</td>\n",
       "    </tr>\n",
       "    <tr>\n",
       "      <th>حكايات بنات الجزء ١</th>\n",
       "      <td>Egypt</td>\n",
       "      <td>4</td>\n",
       "      <td>TV</td>\n",
       "    </tr>\n",
       "    <tr>\n",
       "      <th>راس السنة</th>\n",
       "      <td>Egypt</td>\n",
       "      <td>4</td>\n",
       "      <td>Films</td>\n",
       "    </tr>\n",
       "    <tr>\n",
       "      <th>صاحب المقام</th>\n",
       "      <td>Egypt</td>\n",
       "      <td>5</td>\n",
       "      <td>Films</td>\n",
       "    </tr>\n",
       "    <tr>\n",
       "      <th>صاحب المقام</th>\n",
       "      <td>Jordan</td>\n",
       "      <td>1</td>\n",
       "      <td>Films</td>\n",
       "    </tr>\n",
       "    <tr>\n",
       "      <th>레드슈즈</th>\n",
       "      <td>South Korea</td>\n",
       "      <td>2</td>\n",
       "      <td>Films</td>\n",
       "    </tr>\n",
       "  </tbody>\n",
       "</table>\n",
       "<p>25613 rows × 3 columns</p>\n",
       "</div>"
      ],
      "text/plain": [
       "                          country_name  cumulative_weeks_in_top_10 category\n",
       "show_title                                                                 \n",
       "'76                            Nigeria                           2    Films\n",
       "10 Cloverfield Lane             France                           1    Films\n",
       "10 Cloverfield Lane            Réunion                           1    Films\n",
       "10 Cloverfield Lane        South Korea                           1    Films\n",
       "1000 Miles from Christmas       Cyprus                           2    Films\n",
       "...                                ...                         ...      ...\n",
       "حكايات بنات الجزء ١              Egypt                           4       TV\n",
       "راس السنة                        Egypt                           4    Films\n",
       "صاحب المقام                      Egypt                           5    Films\n",
       "صاحب المقام                     Jordan                           1    Films\n",
       "레드슈즈                       South Korea                           2    Films\n",
       "\n",
       "[25613 rows x 3 columns]"
      ]
     },
     "execution_count": 41,
     "metadata": {},
     "output_type": "execute_result"
    }
   ],
   "source": [
    "# Any variation in staying power by item type/country? (mean cumulative weeks)\n",
    "weeks_by_country_item = df.groupby(['country_name', 'show_title']).cumulative_weeks_in_top_10.max().reset_index()\n",
    "weeks_by_country_item.set_index('show_title').join(df[['show_title', 'category']].drop_duplicates().set_index('show_title'))"
   ]
  },
  {
   "cell_type": "code",
   "execution_count": 22,
   "metadata": {},
   "outputs": [
    {
     "data": {
      "text/html": [
       "<div>\n",
       "<style scoped>\n",
       "    .dataframe tbody tr th:only-of-type {\n",
       "        vertical-align: middle;\n",
       "    }\n",
       "\n",
       "    .dataframe tbody tr th {\n",
       "        vertical-align: top;\n",
       "    }\n",
       "\n",
       "    .dataframe thead th {\n",
       "        text-align: right;\n",
       "    }\n",
       "</style>\n",
       "<table border=\"1\" class=\"dataframe\">\n",
       "  <thead>\n",
       "    <tr style=\"text-align: right;\">\n",
       "      <th></th>\n",
       "      <th>country_name</th>\n",
       "      <th>country_iso2</th>\n",
       "      <th>week</th>\n",
       "      <th>category</th>\n",
       "      <th>weekly_rank</th>\n",
       "      <th>show_title</th>\n",
       "      <th>season_title</th>\n",
       "      <th>cumulative_weeks_in_top_10</th>\n",
       "    </tr>\n",
       "  </thead>\n",
       "  <tbody>\n",
       "    <tr>\n",
       "      <th>0</th>\n",
       "      <td>Argentina</td>\n",
       "      <td>AR</td>\n",
       "      <td>2022-03-06</td>\n",
       "      <td>Films</td>\n",
       "      <td>1</td>\n",
       "      <td>Chernobyl 1986</td>\n",
       "      <td>NaN</td>\n",
       "      <td>2</td>\n",
       "    </tr>\n",
       "    <tr>\n",
       "      <th>1</th>\n",
       "      <td>Argentina</td>\n",
       "      <td>AR</td>\n",
       "      <td>2022-03-06</td>\n",
       "      <td>Films</td>\n",
       "      <td>2</td>\n",
       "      <td>The Weekend Away</td>\n",
       "      <td>NaN</td>\n",
       "      <td>1</td>\n",
       "    </tr>\n",
       "    <tr>\n",
       "      <th>2</th>\n",
       "      <td>Argentina</td>\n",
       "      <td>AR</td>\n",
       "      <td>2022-03-06</td>\n",
       "      <td>Films</td>\n",
       "      <td>3</td>\n",
       "      <td>Against The Ice</td>\n",
       "      <td>NaN</td>\n",
       "      <td>1</td>\n",
       "    </tr>\n",
       "    <tr>\n",
       "      <th>3</th>\n",
       "      <td>Argentina</td>\n",
       "      <td>AR</td>\n",
       "      <td>2022-03-06</td>\n",
       "      <td>Films</td>\n",
       "      <td>4</td>\n",
       "      <td>Restless</td>\n",
       "      <td>NaN</td>\n",
       "      <td>2</td>\n",
       "    </tr>\n",
       "    <tr>\n",
       "      <th>4</th>\n",
       "      <td>Argentina</td>\n",
       "      <td>AR</td>\n",
       "      <td>2022-03-06</td>\n",
       "      <td>Films</td>\n",
       "      <td>5</td>\n",
       "      <td>Spider-Man: Into the Spider-Verse</td>\n",
       "      <td>NaN</td>\n",
       "      <td>1</td>\n",
       "    </tr>\n",
       "    <tr>\n",
       "      <th>...</th>\n",
       "      <td>...</td>\n",
       "      <td>...</td>\n",
       "      <td>...</td>\n",
       "      <td>...</td>\n",
       "      <td>...</td>\n",
       "      <td>...</td>\n",
       "      <td>...</td>\n",
       "      <td>...</td>\n",
       "    </tr>\n",
       "    <tr>\n",
       "      <th>67655</th>\n",
       "      <td>Vietnam</td>\n",
       "      <td>VN</td>\n",
       "      <td>2021-07-04</td>\n",
       "      <td>TV</td>\n",
       "      <td>6</td>\n",
       "      <td>Reply 1988</td>\n",
       "      <td>Reply 1988: Season 1</td>\n",
       "      <td>1</td>\n",
       "    </tr>\n",
       "    <tr>\n",
       "      <th>67656</th>\n",
       "      <td>Vietnam</td>\n",
       "      <td>VN</td>\n",
       "      <td>2021-07-04</td>\n",
       "      <td>TV</td>\n",
       "      <td>7</td>\n",
       "      <td>Nevertheless,</td>\n",
       "      <td>Nevertheless,: Season 1</td>\n",
       "      <td>1</td>\n",
       "    </tr>\n",
       "    <tr>\n",
       "      <th>67657</th>\n",
       "      <td>Vietnam</td>\n",
       "      <td>VN</td>\n",
       "      <td>2021-07-04</td>\n",
       "      <td>TV</td>\n",
       "      <td>8</td>\n",
       "      <td>Too Hot to Handle</td>\n",
       "      <td>Too Hot to Handle: Season 2</td>\n",
       "      <td>1</td>\n",
       "    </tr>\n",
       "    <tr>\n",
       "      <th>67658</th>\n",
       "      <td>Vietnam</td>\n",
       "      <td>VN</td>\n",
       "      <td>2021-07-04</td>\n",
       "      <td>TV</td>\n",
       "      <td>9</td>\n",
       "      <td>Record of Ragnarok</td>\n",
       "      <td>Record of Ragnarok: Season 1</td>\n",
       "      <td>1</td>\n",
       "    </tr>\n",
       "    <tr>\n",
       "      <th>67659</th>\n",
       "      <td>Vietnam</td>\n",
       "      <td>VN</td>\n",
       "      <td>2021-07-04</td>\n",
       "      <td>TV</td>\n",
       "      <td>10</td>\n",
       "      <td>Crash Landing on You</td>\n",
       "      <td>Crash Landing on You: Season 1</td>\n",
       "      <td>1</td>\n",
       "    </tr>\n",
       "  </tbody>\n",
       "</table>\n",
       "<p>67660 rows × 8 columns</p>\n",
       "</div>"
      ],
      "text/plain": [
       "      country_name country_iso2        week category  weekly_rank  \\\n",
       "0        Argentina           AR  2022-03-06    Films            1   \n",
       "1        Argentina           AR  2022-03-06    Films            2   \n",
       "2        Argentina           AR  2022-03-06    Films            3   \n",
       "3        Argentina           AR  2022-03-06    Films            4   \n",
       "4        Argentina           AR  2022-03-06    Films            5   \n",
       "...            ...          ...         ...      ...          ...   \n",
       "67655      Vietnam           VN  2021-07-04       TV            6   \n",
       "67656      Vietnam           VN  2021-07-04       TV            7   \n",
       "67657      Vietnam           VN  2021-07-04       TV            8   \n",
       "67658      Vietnam           VN  2021-07-04       TV            9   \n",
       "67659      Vietnam           VN  2021-07-04       TV           10   \n",
       "\n",
       "                              show_title                    season_title  \\\n",
       "0                         Chernobyl 1986                             NaN   \n",
       "1                       The Weekend Away                             NaN   \n",
       "2                        Against The Ice                             NaN   \n",
       "3                               Restless                             NaN   \n",
       "4      Spider-Man: Into the Spider-Verse                             NaN   \n",
       "...                                  ...                             ...   \n",
       "67655                         Reply 1988            Reply 1988: Season 1   \n",
       "67656                      Nevertheless,         Nevertheless,: Season 1   \n",
       "67657                  Too Hot to Handle     Too Hot to Handle: Season 2   \n",
       "67658                 Record of Ragnarok    Record of Ragnarok: Season 1   \n",
       "67659               Crash Landing on You  Crash Landing on You: Season 1   \n",
       "\n",
       "       cumulative_weeks_in_top_10  \n",
       "0                               2  \n",
       "1                               1  \n",
       "2                               1  \n",
       "3                               2  \n",
       "4                               1  \n",
       "...                           ...  \n",
       "67655                           1  \n",
       "67656                           1  \n",
       "67657                           1  \n",
       "67658                           1  \n",
       "67659                           1  \n",
       "\n",
       "[67660 rows x 8 columns]"
      ]
     },
     "execution_count": 22,
     "metadata": {},
     "output_type": "execute_result"
    }
   ],
   "source": [
    "\n",
    "#   Variation by country\n",
    "# Item overlap across countries\n",
    "# Recreate descriptive analyses from earlier document\n"
   ]
  },
  {
   "cell_type": "code",
   "execution_count": null,
   "metadata": {},
   "outputs": [],
   "source": []
  }
 ],
 "metadata": {
  "interpreter": {
   "hash": "7116823b84c3287848b71e9fb06ed18aaca50c7f573fc60ca993394aa9831f68"
  },
  "kernelspec": {
   "display_name": "Python 3.9.5 64-bit ('netflix': conda)",
   "language": "python",
   "name": "python3"
  },
  "language_info": {
   "codemirror_mode": {
    "name": "ipython",
    "version": 3
   },
   "file_extension": ".py",
   "mimetype": "text/x-python",
   "name": "python",
   "nbconvert_exporter": "python",
   "pygments_lexer": "ipython3",
   "version": "3.9.5"
  },
  "orig_nbformat": 4
 },
 "nbformat": 4,
 "nbformat_minor": 2
}
